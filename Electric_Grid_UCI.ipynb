{
 "cells": [
  {
   "cell_type": "code",
   "execution_count": 77,
   "metadata": {},
   "outputs": [],
   "source": [
    "#Importing required libraries\n",
    "\n",
    "import numpy as np\n",
    "import pandas as pd\n",
    "import matplotlib.pyplot as plt\n",
    "import random\n",
    "from sklearn.preprocessing import LabelEncoder\n",
    "\n",
    "random.seed(98)\n",
    "le = LabelEncoder()"
   ]
  },
  {
   "cell_type": "code",
   "execution_count": 78,
   "metadata": {},
   "outputs": [
    {
     "data": {
      "text/plain": [
       "(10000, 14)"
      ]
     },
     "execution_count": 78,
     "metadata": {},
     "output_type": "execute_result"
    }
   ],
   "source": [
    "data = pd.read_csv('Data_for_UCI_named.csv')\n",
    "data.shape"
   ]
  },
  {
   "cell_type": "code",
   "execution_count": 79,
   "metadata": {},
   "outputs": [],
   "source": [
    "#Initialising variables\n",
    "y = data['stabf']\n",
    "x = data.drop(columns = ['stabf'])\n",
    "y = le.fit_transform(y)\n",
    "\n",
    "#Splitting the dataset\n",
    "from sklearn.model_selection import train_test_split\n",
    "x_train, x_test, y_train, y_test = train_test_split(x,y, test_size = 0.30)"
   ]
  },
  {
   "cell_type": "code",
   "execution_count": 80,
   "metadata": {},
   "outputs": [
    {
     "name": "stdout",
     "output_type": "stream",
     "text": [
      "Train on 5600 samples, validate on 1400 samples\n",
      "Epoch 1/50\n",
      " - 0s - loss: 0.2582 - accuracy: 0.6625 - val_loss: 0.1645 - val_accuracy: 0.7714\n",
      "Epoch 2/50\n",
      " - 0s - loss: 0.1473 - accuracy: 0.8052 - val_loss: 0.1367 - val_accuracy: 0.8200\n",
      "Epoch 3/50\n",
      " - 0s - loss: 0.1270 - accuracy: 0.8363 - val_loss: 0.1233 - val_accuracy: 0.8436\n",
      "Epoch 4/50\n",
      " - 0s - loss: 0.1143 - accuracy: 0.8543 - val_loss: 0.1118 - val_accuracy: 0.8557\n",
      "Epoch 5/50\n",
      " - 0s - loss: 0.1055 - accuracy: 0.8682 - val_loss: 0.1049 - val_accuracy: 0.8779\n",
      "Epoch 6/50\n",
      " - 0s - loss: 0.0993 - accuracy: 0.8780 - val_loss: 0.1021 - val_accuracy: 0.8814\n",
      "Epoch 7/50\n",
      " - 0s - loss: 0.0950 - accuracy: 0.8843 - val_loss: 0.0981 - val_accuracy: 0.8814\n",
      "Epoch 8/50\n",
      " - 0s - loss: 0.0886 - accuracy: 0.9020 - val_loss: 0.0931 - val_accuracy: 0.9129\n",
      "Epoch 9/50\n",
      " - 0s - loss: 0.0861 - accuracy: 0.9039 - val_loss: 0.0930 - val_accuracy: 0.8900\n",
      "Epoch 10/50\n",
      " - 0s - loss: 0.0820 - accuracy: 0.9143 - val_loss: 0.0879 - val_accuracy: 0.9050\n",
      "Epoch 11/50\n",
      " - 0s - loss: 0.0803 - accuracy: 0.9216 - val_loss: 0.0859 - val_accuracy: 0.9179\n",
      "Epoch 12/50\n",
      " - 0s - loss: 0.0759 - accuracy: 0.9259 - val_loss: 0.0832 - val_accuracy: 0.9150\n",
      "Epoch 13/50\n",
      " - 0s - loss: 0.0725 - accuracy: 0.9284 - val_loss: 0.0779 - val_accuracy: 0.9257\n",
      "Epoch 14/50\n",
      " - 0s - loss: 0.0714 - accuracy: 0.9300 - val_loss: 0.0875 - val_accuracy: 0.9100\n",
      "Epoch 15/50\n",
      " - 0s - loss: 0.0678 - accuracy: 0.9352 - val_loss: 0.0778 - val_accuracy: 0.9171\n",
      "Epoch 16/50\n",
      " - 0s - loss: 0.0654 - accuracy: 0.9386 - val_loss: 0.0681 - val_accuracy: 0.9371\n",
      "Epoch 17/50\n",
      " - 0s - loss: 0.0633 - accuracy: 0.9407 - val_loss: 0.0732 - val_accuracy: 0.9243\n",
      "Epoch 18/50\n",
      " - 0s - loss: 0.0604 - accuracy: 0.9430 - val_loss: 0.0676 - val_accuracy: 0.9257\n",
      "Epoch 19/50\n",
      " - 0s - loss: 0.0582 - accuracy: 0.9416 - val_loss: 0.0607 - val_accuracy: 0.9414\n",
      "Epoch 20/50\n",
      " - 0s - loss: 0.0555 - accuracy: 0.9518 - val_loss: 0.0600 - val_accuracy: 0.9421\n",
      "Epoch 21/50\n",
      " - 0s - loss: 0.0545 - accuracy: 0.9452 - val_loss: 0.0563 - val_accuracy: 0.9421\n",
      "Epoch 22/50\n",
      " - 0s - loss: 0.0509 - accuracy: 0.9543 - val_loss: 0.0645 - val_accuracy: 0.9286\n",
      "Epoch 23/50\n",
      " - 0s - loss: 0.0533 - accuracy: 0.9473 - val_loss: 0.0541 - val_accuracy: 0.9493\n",
      "Epoch 24/50\n",
      " - 0s - loss: 0.0467 - accuracy: 0.9561 - val_loss: 0.0525 - val_accuracy: 0.9479\n",
      "Epoch 25/50\n",
      " - 0s - loss: 0.0455 - accuracy: 0.9559 - val_loss: 0.0682 - val_accuracy: 0.9157\n",
      "Epoch 26/50\n",
      " - 0s - loss: 0.0443 - accuracy: 0.9611 - val_loss: 0.0472 - val_accuracy: 0.9564\n",
      "Epoch 27/50\n",
      " - 0s - loss: 0.0441 - accuracy: 0.9589 - val_loss: 0.0498 - val_accuracy: 0.9457\n",
      "Epoch 28/50\n",
      " - 0s - loss: 0.0421 - accuracy: 0.9600 - val_loss: 0.0456 - val_accuracy: 0.9514\n",
      "Epoch 29/50\n",
      " - 0s - loss: 0.0380 - accuracy: 0.9671 - val_loss: 0.0451 - val_accuracy: 0.9557\n",
      "Epoch 30/50\n",
      " - 0s - loss: 0.0381 - accuracy: 0.9650 - val_loss: 0.0458 - val_accuracy: 0.9514\n",
      "Epoch 31/50\n",
      " - 0s - loss: 0.0367 - accuracy: 0.9657 - val_loss: 0.0442 - val_accuracy: 0.9529\n",
      "Epoch 32/50\n",
      " - 0s - loss: 0.0366 - accuracy: 0.9652 - val_loss: 0.0418 - val_accuracy: 0.9579\n",
      "Epoch 33/50\n",
      " - 0s - loss: 0.0353 - accuracy: 0.9677 - val_loss: 0.0390 - val_accuracy: 0.9593\n",
      "Epoch 34/50\n",
      " - 0s - loss: 0.0345 - accuracy: 0.9675 - val_loss: 0.0510 - val_accuracy: 0.9429\n",
      "Epoch 35/50\n",
      " - 0s - loss: 0.0330 - accuracy: 0.9691 - val_loss: 0.0381 - val_accuracy: 0.9629\n",
      "Epoch 36/50\n",
      " - 0s - loss: 0.0303 - accuracy: 0.9718 - val_loss: 0.0363 - val_accuracy: 0.9629\n",
      "Epoch 37/50\n",
      " - 0s - loss: 0.0326 - accuracy: 0.9677 - val_loss: 0.0368 - val_accuracy: 0.9579\n",
      "Epoch 38/50\n",
      " - 0s - loss: 0.0306 - accuracy: 0.9668 - val_loss: 0.0374 - val_accuracy: 0.9543\n",
      "Epoch 39/50\n",
      " - 0s - loss: 0.0300 - accuracy: 0.9711 - val_loss: 0.0345 - val_accuracy: 0.9629\n",
      "Epoch 40/50\n",
      " - 0s - loss: 0.0280 - accuracy: 0.9775 - val_loss: 0.0426 - val_accuracy: 0.9486\n",
      "Epoch 41/50\n",
      " - 0s - loss: 0.0283 - accuracy: 0.9729 - val_loss: 0.0429 - val_accuracy: 0.9543\n",
      "Epoch 42/50\n",
      " - 0s - loss: 0.0282 - accuracy: 0.9732 - val_loss: 0.0423 - val_accuracy: 0.9436\n",
      "Epoch 43/50\n",
      " - 0s - loss: 0.0262 - accuracy: 0.9732 - val_loss: 0.0332 - val_accuracy: 0.9614\n",
      "Epoch 44/50\n",
      " - 0s - loss: 0.0250 - accuracy: 0.9768 - val_loss: 0.0297 - val_accuracy: 0.9657\n",
      "Epoch 45/50\n",
      " - 0s - loss: 0.0257 - accuracy: 0.9754 - val_loss: 0.0321 - val_accuracy: 0.9636\n",
      "Epoch 46/50\n",
      " - 0s - loss: 0.0262 - accuracy: 0.9743 - val_loss: 0.0495 - val_accuracy: 0.9300\n",
      "Epoch 47/50\n",
      " - 0s - loss: 0.0250 - accuracy: 0.9737 - val_loss: 0.0292 - val_accuracy: 0.9657\n",
      "Epoch 48/50\n",
      " - 0s - loss: 0.0214 - accuracy: 0.9793 - val_loss: 0.0270 - val_accuracy: 0.9671\n",
      "Epoch 49/50\n",
      " - 0s - loss: 0.0218 - accuracy: 0.9796 - val_loss: 0.0293 - val_accuracy: 0.9671\n",
      "Epoch 50/50\n",
      " - 0s - loss: 0.0218 - accuracy: 0.9789 - val_loss: 0.0278 - val_accuracy: 0.9636\n"
     ]
    },
    {
     "data": {
      "text/plain": [
       "[<matplotlib.lines.Line2D at 0x1a73cffb848>]"
      ]
     },
     "execution_count": 80,
     "metadata": {},
     "output_type": "execute_result"
    },
    {
     "data": {
      "image/png": "[encoded data removed]",
      "text/plain": [
       "<Figure size 432x288 with 1 Axes>"
      ]
     },
     "metadata": {
      "needs_background": "light"
     },
     "output_type": "display_data"
    }
   ],
   "source": [
    "random.seed(98)\n",
    "\n",
    "from keras.models import Sequential\n",
    "from keras.layers import Dense, Activation\n",
    "\n",
    "n_cols = x_train.shape[1]\n",
    "model = Sequential()\n",
    "\n",
    "#Layers\n",
    "model.add(Dense(32, activation = 'relu', input_shape = (n_cols,)))\n",
    "model.add(Dense(16, activation = 'relu'))\n",
    "model.add(Dense(4, activation = 'relu'))\n",
    "model.add(Dense(1))\n",
    "\n",
    "#Compiling the model\n",
    "model.compile(optimizer = 'adam', loss = 'mean_squared_error', metrics = ['accuracy'])\n",
    "history = model.fit(x_train, y_train, batch_size = 50, verbose = 2, epochs = 50, validation_split = 0.2)\n",
    "plt.plot(history.history['loss'])"
   ]
  },
  {
   "cell_type": "code",
   "execution_count": 84,
   "metadata": {},
   "outputs": [
    {
     "name": "stdout",
     "output_type": "stream",
     "text": [
      "Training Accuaracy = 97.89285659790039\n",
      "Validation Accuaracy = 96.35714292526245\n"
     ]
    }
   ],
   "source": [
    "print(\"Training Accuaracy = \" + str(100 * history.history['accuracy'][-1]))\n",
    "print(\"Validation Accuaracy = \" + str(100 * history.history['val_accuracy'][-1]))\n",
    "\n",
    "y_pred = model.predict(x_test)\n",
    "y_pred = (y_pred > 0.5)"
   ]
  },
  {
   "cell_type": "code",
   "execution_count": 85,
   "metadata": {},
   "outputs": [
    {
     "data": {
      "text/plain": [
       "array([[1075,   16],\n",
       "       [  60, 1849]], dtype=int64)"
      ]
     },
     "execution_count": 85,
     "metadata": {},
     "output_type": "execute_result"
    }
   ],
   "source": [
    "from sklearn.metrics import confusion_matrix\n",
    "cm = confusion_matrix(y_test, y_pred)\n",
    "cm"
   ]
  },
  {
   "cell_type": "code",
   "execution_count": 89,
   "metadata": {},
   "outputs": [
    {
     "name": "stdout",
     "output_type": "stream",
     "text": [
      "Accuracy = 97.46666666666667\n"
     ]
    }
   ],
   "source": [
    "print(\"Accuracy = \" + str(100 * (cm[0][0] + cm[1][1])/(cm[1][0] + cm[0][1] + cm[0][0] + cm[1][1])))"
   ]
  },
  {
   "cell_type": "code",
   "execution_count": null,
   "metadata": {},
   "outputs": [],
   "source": []
  }
 ],
 "metadata": {
  "kernelspec": {
   "display_name": "Python 3",
   "language": "python",
   "name": "python3"
  },
  "language_info": {
   "codemirror_mode": {
    "name": "ipython",
    "version": 3
   },
   "file_extension": ".py",
   "mimetype": "text/x-python",
   "name": "python",
   "nbconvert_exporter": "python",
   "pygments_lexer": "ipython3",
   "version": "3.7.6"
  }
 },
 "nbformat": 4,
 "nbformat_minor": 4
}
